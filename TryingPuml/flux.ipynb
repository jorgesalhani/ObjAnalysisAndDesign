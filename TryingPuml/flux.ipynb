{
 "cells": [
  {
   "cell_type": "code",
   "execution_count": 1,
   "metadata": {},
   "outputs": [
    {
     "name": "stdout",
     "output_type": "stream",
     "text": [
      "Requirement already satisfied: iplantuml in c:\\users\\jorge\\appdata\\local\\programs\\python\\python311\\lib\\site-packages (0.1.1)Note: you may need to restart the kernel to use updated packages.\n",
      "\n",
      "Requirement already satisfied: plantweb in c:\\users\\jorge\\appdata\\local\\programs\\python\\python311\\lib\\site-packages (from iplantuml) (1.2.1)\n",
      "Requirement already satisfied: six in c:\\users\\jorge\\appdata\\local\\programs\\python\\python311\\lib\\site-packages (from plantweb->iplantuml) (1.16.0)\n",
      "Requirement already satisfied: requests in c:\\users\\jorge\\appdata\\local\\programs\\python\\python311\\lib\\site-packages (from plantweb->iplantuml) (2.31.0)\n",
      "Requirement already satisfied: docutils in c:\\users\\jorge\\appdata\\local\\programs\\python\\python311\\lib\\site-packages (from plantweb->iplantuml) (0.19)\n",
      "Requirement already satisfied: charset-normalizer<4,>=2 in c:\\users\\jorge\\appdata\\local\\programs\\python\\python311\\lib\\site-packages (from requests->plantweb->iplantuml) (3.0.1)\n",
      "Requirement already satisfied: idna<4,>=2.5 in c:\\users\\jorge\\appdata\\local\\programs\\python\\python311\\lib\\site-packages (from requests->plantweb->iplantuml) (3.4)\n",
      "Requirement already satisfied: urllib3<3,>=1.21.1 in c:\\users\\jorge\\appdata\\local\\programs\\python\\python311\\lib\\site-packages (from requests->plantweb->iplantuml) (1.26.14)\n",
      "Requirement already satisfied: certifi>=2017.4.17 in c:\\users\\jorge\\appdata\\local\\programs\\python\\python311\\lib\\site-packages (from requests->plantweb->iplantuml) (2022.12.7)\n"
     ]
    },
    {
     "name": "stderr",
     "output_type": "stream",
     "text": [
      "\n",
      "[notice] A new release of pip available: 22.3.1 -> 23.2.1\n",
      "[notice] To update, run: python.exe -m pip install --upgrade pip\n"
     ]
    }
   ],
   "source": [
    "%pip install iplantuml\n",
    "import iplantuml"
   ]
  },
  {
   "cell_type": "code",
   "execution_count": 2,
   "metadata": {},
   "outputs": [
    {
     "data": {
      "image/svg+xml": [
       "<svg xmlns=\"http://www.w3.org/2000/svg\" xmlns:xlink=\"http://www.w3.org/1999/xlink\" contentStyleType=\"text/css\" height=\"278px\" preserveAspectRatio=\"none\" style=\"width:407px;height:278px;background:#FFFFFF;\" version=\"1.1\" viewBox=\"0 0 407 278\" width=\"407px\" zoomAndPan=\"magnify\"><defs/><g><!--class Object--><g id=\"elem_Object\"><rect fill=\"#F1F1F1\" height=\"48\" id=\"Object\" rx=\"2.5\" ry=\"2.5\" style=\"stroke:#181818;stroke-width:0.5;\" width=\"81\" x=\"129.5\" y=\"7\"/><ellipse cx=\"144.5\" cy=\"23\" fill=\"#ADD1B2\" rx=\"11\" ry=\"11\" style=\"stroke:#181818;stroke-width:1.0;\"/><path d=\"M146.8438,18.6719 C145.9063,18.2344 145.3125,18.0938 144.4375,18.0938 C141.8125,18.0938 139.8125,20.1719 139.8125,22.8906 L139.8125,24.0156 C139.8125,26.5938 141.9219,28.4844 144.8125,28.4844 C146.0313,28.4844 147.1875,28.1875 147.9375,27.6406 C148.5156,27.2344 148.8438,26.7813 148.8438,26.3906 C148.8438,25.9375 148.4531,25.5469 147.9844,25.5469 C147.7656,25.5469 147.5625,25.625 147.375,25.8125 C146.9219,26.2969 146.9219,26.2969 146.7344,26.3906 C146.3125,26.6563 145.625,26.7813 144.8594,26.7813 C142.8125,26.7813 141.5156,25.6875 141.5156,23.9844 L141.5156,22.8906 C141.5156,21.1094 142.7656,19.7969 144.5,19.7969 C145.0781,19.7969 145.6875,19.9531 146.1563,20.2031 C146.6406,20.4844 146.8125,20.7031 146.9063,21.1094 C146.9688,21.5156 147,21.6406 147.1406,21.7656 C147.2813,21.9063 147.5156,22.0156 147.7344,22.0156 C148,22.0156 148.2656,21.875 148.4375,21.6563 C148.5469,21.5 148.5781,21.3125 148.5781,20.8906 L148.5781,19.4688 C148.5781,19.0313 148.5625,18.9063 148.4688,18.75 C148.3125,18.4844 148.0313,18.3438 147.7344,18.3438 C147.4375,18.3438 147.2344,18.4375 147.0156,18.75 L146.8438,18.6719 Z \" fill=\"#000000\"/><text fill=\"#000000\" font-family=\"sans-serif\" font-size=\"14\" lengthAdjust=\"spacing\" textLength=\"49\" x=\"158.5\" y=\"27.8467\">Object</text><line style=\"stroke:#181818;stroke-width:0.5;\" x1=\"130.5\" x2=\"209.5\" y1=\"39\" y2=\"39\"/><line style=\"stroke:#181818;stroke-width:0.5;\" x1=\"130.5\" x2=\"209.5\" y1=\"47\" y2=\"47\"/></g><!--class Boolean--><g id=\"elem_Boolean\"><rect fill=\"#F1F1F1\" height=\"48\" id=\"Boolean\" rx=\"2.5\" ry=\"2.5\" style=\"stroke:#181818;stroke-width:0.5;\" width=\"90\" x=\"7\" y=\"115\"/><ellipse cx=\"22\" cy=\"131\" fill=\"#ADD1B2\" rx=\"11\" ry=\"11\" style=\"stroke:#181818;stroke-width:1.0;\"/><path d=\"M24.3438,126.6719 C23.4063,126.2344 22.8125,126.0938 21.9375,126.0938 C19.3125,126.0938 17.3125,128.1719 17.3125,130.8906 L17.3125,132.0156 C17.3125,134.5938 19.4219,136.4844 22.3125,136.4844 C23.5313,136.4844 24.6875,136.1875 25.4375,135.6406 C26.0156,135.2344 26.3438,134.7813 26.3438,134.3906 C26.3438,133.9375 25.9531,133.5469 25.4844,133.5469 C25.2656,133.5469 25.0625,133.625 24.875,133.8125 C24.4219,134.2969 24.4219,134.2969 24.2344,134.3906 C23.8125,134.6563 23.125,134.7813 22.3594,134.7813 C20.3125,134.7813 19.0156,133.6875 19.0156,131.9844 L19.0156,130.8906 C19.0156,129.1094 20.2656,127.7969 22,127.7969 C22.5781,127.7969 23.1875,127.9531 23.6563,128.2031 C24.1406,128.4844 24.3125,128.7031 24.4063,129.1094 C24.4688,129.5156 24.5,129.6406 24.6406,129.7656 C24.7813,129.9063 25.0156,130.0156 25.2344,130.0156 C25.5,130.0156 25.7656,129.875 25.9375,129.6563 C26.0469,129.5 26.0781,129.3125 26.0781,128.8906 L26.0781,127.4688 C26.0781,127.0313 26.0625,126.9063 25.9688,126.75 C25.8125,126.4844 25.5313,126.3438 25.2344,126.3438 C24.9375,126.3438 24.7344,126.4375 24.5156,126.75 L24.3438,126.6719 Z \" fill=\"#000000\"/><text fill=\"#000000\" font-family=\"sans-serif\" font-size=\"14\" lengthAdjust=\"spacing\" textLength=\"58\" x=\"36\" y=\"135.8467\">Boolean</text><line style=\"stroke:#181818;stroke-width:0.5;\" x1=\"8\" x2=\"96\" y1=\"147\" y2=\"147\"/><line style=\"stroke:#181818;stroke-width:0.5;\" x1=\"8\" x2=\"96\" y1=\"155\" y2=\"155\"/></g><!--class String--><g id=\"elem_String\"><rect fill=\"#F1F1F1\" height=\"48\" id=\"String\" rx=\"2.5\" ry=\"2.5\" style=\"stroke:#181818;stroke-width:0.5;\" width=\"76\" x=\"132\" y=\"115\"/><ellipse cx=\"147\" cy=\"131\" fill=\"#ADD1B2\" rx=\"11\" ry=\"11\" style=\"stroke:#181818;stroke-width:1.0;\"/><path d=\"M149.3438,126.6719 C148.4063,126.2344 147.8125,126.0938 146.9375,126.0938 C144.3125,126.0938 142.3125,128.1719 142.3125,130.8906 L142.3125,132.0156 C142.3125,134.5938 144.4219,136.4844 147.3125,136.4844 C148.5313,136.4844 149.6875,136.1875 150.4375,135.6406 C151.0156,135.2344 151.3438,134.7813 151.3438,134.3906 C151.3438,133.9375 150.9531,133.5469 150.4844,133.5469 C150.2656,133.5469 150.0625,133.625 149.875,133.8125 C149.4219,134.2969 149.4219,134.2969 149.2344,134.3906 C148.8125,134.6563 148.125,134.7813 147.3594,134.7813 C145.3125,134.7813 144.0156,133.6875 144.0156,131.9844 L144.0156,130.8906 C144.0156,129.1094 145.2656,127.7969 147,127.7969 C147.5781,127.7969 148.1875,127.9531 148.6563,128.2031 C149.1406,128.4844 149.3125,128.7031 149.4063,129.1094 C149.4688,129.5156 149.5,129.6406 149.6406,129.7656 C149.7813,129.9063 150.0156,130.0156 150.2344,130.0156 C150.5,130.0156 150.7656,129.875 150.9375,129.6563 C151.0469,129.5 151.0781,129.3125 151.0781,128.8906 L151.0781,127.4688 C151.0781,127.0313 151.0625,126.9063 150.9688,126.75 C150.8125,126.4844 150.5313,126.3438 150.2344,126.3438 C149.9375,126.3438 149.7344,126.4375 149.5156,126.75 L149.3438,126.6719 Z \" fill=\"#000000\"/><text fill=\"#000000\" font-family=\"sans-serif\" font-size=\"14\" lengthAdjust=\"spacing\" textLength=\"44\" x=\"161\" y=\"135.8467\">String</text><line style=\"stroke:#181818;stroke-width:0.5;\" x1=\"133\" x2=\"207\" y1=\"147\" y2=\"147\"/><line style=\"stroke:#181818;stroke-width:0.5;\" x1=\"133\" x2=\"207\" y1=\"155\" y2=\"155\"/></g><!--class Number--><g id=\"elem_Number\"><rect fill=\"#F1F1F1\" height=\"48\" id=\"Number\" rx=\"2.5\" ry=\"2.5\" style=\"stroke:#181818;stroke-width:0.5;\" width=\"89\" x=\"243.5\" y=\"115\"/><ellipse cx=\"258.5\" cy=\"131\" fill=\"#ADD1B2\" rx=\"11\" ry=\"11\" style=\"stroke:#181818;stroke-width:1.0;\"/><path d=\"M260.8438,126.6719 C259.9063,126.2344 259.3125,126.0938 258.4375,126.0938 C255.8125,126.0938 253.8125,128.1719 253.8125,130.8906 L253.8125,132.0156 C253.8125,134.5938 255.9219,136.4844 258.8125,136.4844 C260.0313,136.4844 261.1875,136.1875 261.9375,135.6406 C262.5156,135.2344 262.8438,134.7813 262.8438,134.3906 C262.8438,133.9375 262.4531,133.5469 261.9844,133.5469 C261.7656,133.5469 261.5625,133.625 261.375,133.8125 C260.9219,134.2969 260.9219,134.2969 260.7344,134.3906 C260.3125,134.6563 259.625,134.7813 258.8594,134.7813 C256.8125,134.7813 255.5156,133.6875 255.5156,131.9844 L255.5156,130.8906 C255.5156,129.1094 256.7656,127.7969 258.5,127.7969 C259.0781,127.7969 259.6875,127.9531 260.1563,128.2031 C260.6406,128.4844 260.8125,128.7031 260.9063,129.1094 C260.9688,129.5156 261,129.6406 261.1406,129.7656 C261.2813,129.9063 261.5156,130.0156 261.7344,130.0156 C262,130.0156 262.2656,129.875 262.4375,129.6563 C262.5469,129.5 262.5781,129.3125 262.5781,128.8906 L262.5781,127.4688 C262.5781,127.0313 262.5625,126.9063 262.4688,126.75 C262.3125,126.4844 262.0313,126.3438 261.7344,126.3438 C261.4375,126.3438 261.2344,126.4375 261.0156,126.75 L260.8438,126.6719 Z \" fill=\"#000000\"/><text fill=\"#000000\" font-family=\"sans-serif\" font-size=\"14\" lengthAdjust=\"spacing\" textLength=\"57\" x=\"272.5\" y=\"135.8467\">Number</text><line style=\"stroke:#181818;stroke-width:0.5;\" x1=\"244.5\" x2=\"331.5\" y1=\"147\" y2=\"147\"/><line style=\"stroke:#181818;stroke-width:0.5;\" x1=\"244.5\" x2=\"331.5\" y1=\"155\" y2=\"155\"/></g><!--class Integer--><g id=\"elem_Integer\"><rect fill=\"#F1F1F1\" height=\"48\" id=\"Integer\" rx=\"2.5\" ry=\"2.5\" style=\"stroke:#181818;stroke-width:0.5;\" width=\"85\" x=\"181.5\" y=\"223\"/><ellipse cx=\"196.5\" cy=\"239\" fill=\"#ADD1B2\" rx=\"11\" ry=\"11\" style=\"stroke:#181818;stroke-width:1.0;\"/><path d=\"M198.8438,234.6719 C197.9063,234.2344 197.3125,234.0938 196.4375,234.0938 C193.8125,234.0938 191.8125,236.1719 191.8125,238.8906 L191.8125,240.0156 C191.8125,242.5938 193.9219,244.4844 196.8125,244.4844 C198.0313,244.4844 199.1875,244.1875 199.9375,243.6406 C200.5156,243.2344 200.8438,242.7813 200.8438,242.3906 C200.8438,241.9375 200.4531,241.5469 199.9844,241.5469 C199.7656,241.5469 199.5625,241.625 199.375,241.8125 C198.9219,242.2969 198.9219,242.2969 198.7344,242.3906 C198.3125,242.6563 197.625,242.7813 196.8594,242.7813 C194.8125,242.7813 193.5156,241.6875 193.5156,239.9844 L193.5156,238.8906 C193.5156,237.1094 194.7656,235.7969 196.5,235.7969 C197.0781,235.7969 197.6875,235.9531 198.1563,236.2031 C198.6406,236.4844 198.8125,236.7031 198.9063,237.1094 C198.9688,237.5156 199,237.6406 199.1406,237.7656 C199.2813,237.9063 199.5156,238.0156 199.7344,238.0156 C200,238.0156 200.2656,237.875 200.4375,237.6563 C200.5469,237.5 200.5781,237.3125 200.5781,236.8906 L200.5781,235.4688 C200.5781,235.0313 200.5625,234.9063 200.4688,234.75 C200.3125,234.4844 200.0313,234.3438 199.7344,234.3438 C199.4375,234.3438 199.2344,234.4375 199.0156,234.75 L198.8438,234.6719 Z \" fill=\"#000000\"/><text fill=\"#000000\" font-family=\"sans-serif\" font-size=\"14\" lengthAdjust=\"spacing\" textLength=\"53\" x=\"210.5\" y=\"243.8467\">Integer</text><line style=\"stroke:#181818;stroke-width:0.5;\" x1=\"182.5\" x2=\"265.5\" y1=\"255\" y2=\"255\"/><line style=\"stroke:#181818;stroke-width:0.5;\" x1=\"182.5\" x2=\"265.5\" y1=\"263\" y2=\"263\"/></g><!--class Doubleaa--><g id=\"elem_Doubleaa\"><rect fill=\"#F1F1F1\" height=\"48\" id=\"Doubleaa\" rx=\"2.5\" ry=\"2.5\" style=\"stroke:#181818;stroke-width:0.5;\" width=\"99\" x=\"301.5\" y=\"223\"/><ellipse cx=\"316.5\" cy=\"239\" fill=\"#ADD1B2\" rx=\"11\" ry=\"11\" style=\"stroke:#181818;stroke-width:1.0;\"/><path d=\"M318.8438,234.6719 C317.9063,234.2344 317.3125,234.0938 316.4375,234.0938 C313.8125,234.0938 311.8125,236.1719 311.8125,238.8906 L311.8125,240.0156 C311.8125,242.5938 313.9219,244.4844 316.8125,244.4844 C318.0313,244.4844 319.1875,244.1875 319.9375,243.6406 C320.5156,243.2344 320.8438,242.7813 320.8438,242.3906 C320.8438,241.9375 320.4531,241.5469 319.9844,241.5469 C319.7656,241.5469 319.5625,241.625 319.375,241.8125 C318.9219,242.2969 318.9219,242.2969 318.7344,242.3906 C318.3125,242.6563 317.625,242.7813 316.8594,242.7813 C314.8125,242.7813 313.5156,241.6875 313.5156,239.9844 L313.5156,238.8906 C313.5156,237.1094 314.7656,235.7969 316.5,235.7969 C317.0781,235.7969 317.6875,235.9531 318.1563,236.2031 C318.6406,236.4844 318.8125,236.7031 318.9063,237.1094 C318.9688,237.5156 319,237.6406 319.1406,237.7656 C319.2813,237.9063 319.5156,238.0156 319.7344,238.0156 C320,238.0156 320.2656,237.875 320.4375,237.6563 C320.5469,237.5 320.5781,237.3125 320.5781,236.8906 L320.5781,235.4688 C320.5781,235.0313 320.5625,234.9063 320.4688,234.75 C320.3125,234.4844 320.0313,234.3438 319.7344,234.3438 C319.4375,234.3438 319.2344,234.4375 319.0156,234.75 L318.8438,234.6719 Z \" fill=\"#000000\"/><text fill=\"#000000\" font-family=\"sans-serif\" font-size=\"14\" lengthAdjust=\"spacing\" textLength=\"67\" x=\"330.5\" y=\"243.8467\">Doubleaa</text><line style=\"stroke:#181818;stroke-width:0.5;\" x1=\"302.5\" x2=\"399.5\" y1=\"255\" y2=\"255\"/><line style=\"stroke:#181818;stroke-width:0.5;\" x1=\"302.5\" x2=\"399.5\" y1=\"263\" y2=\"263\"/></g><!--reverse link Object to Boolean--><g id=\"link_Object_Boolean\"><path codeLine=\"1\" d=\"M131.0054,67.0288 C111.3484,84.6868 97.7074,96.941 77.9618,114.678 \" fill=\"none\" id=\"Object-backto-Boolean\" style=\"stroke:#181818;stroke-width:1.0;\"/><polygon fill=\"none\" points=\"144.396,55,126.9958,62.5653,135.015,71.4923,144.396,55\" style=\"stroke:#181818;stroke-width:1.0;\"/></g><!--reverse link Object to String--><g id=\"link_Object_String\"><path codeLine=\"2\" d=\"M170,73 C170,90.658 170,96.941 170,114.678 \" fill=\"none\" id=\"Object-backto-String\" style=\"stroke:#181818;stroke-width:1.0;\"/><polygon fill=\"none\" points=\"170,55,164,73,176,73,170,55\" style=\"stroke:#181818;stroke-width:1.0;\"/></g><!--reverse link Object to Number--><g id=\"link_Object_Number\"><path codeLine=\"3\" d=\"M208.9946,67.0288 C228.6516,84.6868 242.293,96.941 262.038,114.678 \" fill=\"none\" id=\"Object-backto-Number\" style=\"stroke:#181818;stroke-width:1.0;\"/><polygon fill=\"none\" points=\"195.604,55,204.985,71.4923,213.0042,62.5653,195.604,55\" style=\"stroke:#181818;stroke-width:1.0;\"/></g><!--reverse link Number to Integer--><g id=\"link_Number_Integer\"><path codeLine=\"4\" d=\"M264.8098,178.4094 C254.1488,196.0678 248.79,204.9408 238.081,222.6784 \" fill=\"none\" id=\"Number-backto-Integer\" style=\"stroke:#181818;stroke-width:1.0;\"/><polygon fill=\"none\" points=\"274.113,163,259.6733,175.3084,269.9463,181.5105,274.113,163\" style=\"stroke:#181818;stroke-width:1.0;\"/></g><!--reverse link Number to Doubleaa--><g id=\"link_Number_Doubleaa\"><path codeLine=\"5\" d=\"M310.8664,178.4734 C321.3614,196.1318 326.597,204.9408 337.139,222.6784 \" fill=\"none\" id=\"Number-backto-Doubleaa\" style=\"stroke:#181818;stroke-width:1.0;\"/><polygon fill=\"none\" points=\"301.67,163,305.7086,181.5389,316.0242,175.408,301.67,163\" style=\"stroke:#181818;stroke-width:1.0;\"/></g><!--SRC=[yq_AIaqkKR2fqTLLSChFpqbDpEFoHn8BBYdAp4j74V8hpKrABUA2K10XpxoIr7GqCPVyqYIWSOa0]--></g></svg>"
      ],
      "text/plain": [
       "<IPython.core.display.SVG object>"
      ]
     },
     "execution_count": 2,
     "metadata": {},
     "output_type": "execute_result"
    }
   ],
   "source": [
    "%%plantuml\n",
    "\n",
    "@startuml\n",
    "Object <|-- Boolean\n",
    "Object <|-- String\n",
    "Object <|-- Number\n",
    "Number <|-- Integer\n",
    "Number <|-- Doubleaa\n",
    "@enduml"
   ]
  },
  {
   "cell_type": "code",
   "execution_count": 4,
   "metadata": {},
   "outputs": [
    {
     "data": {
      "image/svg+xml": [
       "<svg xmlns=\"http://www.w3.org/2000/svg\" xmlns:xlink=\"http://www.w3.org/1999/xlink\" contentStyleType=\"text/css\" height=\"149px\" preserveAspectRatio=\"none\" style=\"width:174px;height:149px;background:#FFFFFF;\" version=\"1.1\" viewBox=\"0 0 174 149\" width=\"174px\" zoomAndPan=\"magnify\"><defs/><g><line style=\"stroke:#181818;stroke-width:0.5;stroke-dasharray:5.0,5.0;\" x1=\"29\" x2=\"29\" y1=\"36.2969\" y2=\"114.5625\"/><line style=\"stroke:#181818;stroke-width:0.5;stroke-dasharray:5.0,5.0;\" x1=\"146\" x2=\"146\" y1=\"36.2969\" y2=\"114.5625\"/><rect fill=\"#E2E2F0\" height=\"30.2969\" rx=\"2.5\" ry=\"2.5\" style=\"stroke:#181818;stroke-width:0.5;\" width=\"49\" x=\"5\" y=\"5\"/><text fill=\"#000000\" font-family=\"sans-serif\" font-size=\"14\" lengthAdjust=\"spacing\" textLength=\"35\" x=\"12\" y=\"24.9951\">Alice</text><rect fill=\"#E2E2F0\" height=\"30.2969\" rx=\"2.5\" ry=\"2.5\" style=\"stroke:#181818;stroke-width:0.5;\" width=\"49\" x=\"5\" y=\"113.5625\"/><text fill=\"#000000\" font-family=\"sans-serif\" font-size=\"14\" lengthAdjust=\"spacing\" textLength=\"35\" x=\"12\" y=\"133.5576\">Alice</text><rect fill=\"#E2E2F0\" height=\"30.2969\" rx=\"2.5\" ry=\"2.5\" style=\"stroke:#181818;stroke-width:0.5;\" width=\"43\" x=\"125\" y=\"5\"/><text fill=\"#000000\" font-family=\"sans-serif\" font-size=\"14\" lengthAdjust=\"spacing\" textLength=\"29\" x=\"132\" y=\"24.9951\">Bob</text><rect fill=\"#E2E2F0\" height=\"30.2969\" rx=\"2.5\" ry=\"2.5\" style=\"stroke:#181818;stroke-width:0.5;\" width=\"43\" x=\"125\" y=\"113.5625\"/><text fill=\"#000000\" font-family=\"sans-serif\" font-size=\"14\" lengthAdjust=\"spacing\" textLength=\"29\" x=\"132\" y=\"133.5576\">Bob</text><polygon fill=\"#181818\" points=\"134.5,63.4297,144.5,67.4297,134.5,71.4297,138.5,67.4297\" style=\"stroke:#181818;stroke-width:1.0;\"/><line style=\"stroke:#181818;stroke-width:1.0;\" x1=\"29.5\" x2=\"140.5\" y1=\"67.4297\" y2=\"67.4297\"/><text fill=\"#000000\" font-family=\"sans-serif\" font-size=\"13\" lengthAdjust=\"spacing\" textLength=\"93\" x=\"36.5\" y=\"62.3638\">Authentication</text><polygon fill=\"#181818\" points=\"40.5,92.5625,30.5,96.5625,40.5,100.5625,36.5,96.5625\" style=\"stroke:#181818;stroke-width:1.0;\"/><line style=\"stroke:#181818;stroke-width:1.0;stroke-dasharray:2.0,2.0;\" x1=\"34.5\" x2=\"145.5\" y1=\"96.5625\" y2=\"96.5625\"/><text fill=\"#000000\" font-family=\"sans-serif\" font-size=\"13\" lengthAdjust=\"spacing\" textLength=\"63\" x=\"46.5\" y=\"91.4966\">Response</text><!--SRC=[Syp9J4vLqBLJSCfFKb2mKd0iBSb8pIl9J4uioSpFut84IzleweBbhHI2KeiBylEAKm40]--></g></svg>"
      ],
      "text/plain": [
       "<IPython.core.display.SVG object>"
      ]
     },
     "execution_count": 4,
     "metadata": {},
     "output_type": "execute_result"
    }
   ],
   "source": [
    "%%plantuml\n",
    "\n",
    "@startuml\n",
    "Alice -> Bob  : Authentication\n",
    "Alice <-- Bob : Response\n",
    "@enduml"
   ]
  },
  {
   "cell_type": "code",
   "execution_count": 7,
   "metadata": {},
   "outputs": [
    {
     "data": {
      "image/svg+xml": [
       "<svg xmlns=\"http://www.w3.org/2000/svg\" xmlns:xlink=\"http://www.w3.org/1999/xlink\" contentStyleType=\"text/css\" height=\"297px\" preserveAspectRatio=\"none\" style=\"width:138px;height:297px;background:#FFFFFF;\" version=\"1.1\" viewBox=\"0 0 138 297\" width=\"138px\" zoomAndPan=\"magnify\"><defs/><g><text fill=\"#000000\" font-family=\"sans-serif\" font-size=\"14\" font-weight=\"bold\" lengthAdjust=\"spacing\" textLength=\"110\" x=\"10\" y=\"40.6357\">Title Example</text><line style=\"stroke:#181818;stroke-width:0.5;stroke-dasharray:5.0,5.0;\" x1=\"38.5\" x2=\"38.5\" y1=\"86.2344\" y2=\"246.6328\"/><line style=\"stroke:#181818;stroke-width:0.5;stroke-dasharray:5.0,5.0;\" x1=\"94.5\" x2=\"94.5\" y1=\"86.2344\" y2=\"246.6328\"/><rect fill=\"#E2E2F0\" height=\"30.2969\" rx=\"2.5\" ry=\"2.5\" style=\"stroke:#181818;stroke-width:0.5;\" width=\"49\" x=\"14.5\" y=\"54.9375\"/><text fill=\"#000000\" font-family=\"sans-serif\" font-size=\"14\" lengthAdjust=\"spacing\" textLength=\"35\" x=\"21.5\" y=\"74.9326\">Alice</text><rect fill=\"#E2E2F0\" height=\"30.2969\" rx=\"2.5\" ry=\"2.5\" style=\"stroke:#181818;stroke-width:0.5;\" width=\"49\" x=\"14.5\" y=\"245.6328\"/><text fill=\"#000000\" font-family=\"sans-serif\" font-size=\"14\" lengthAdjust=\"spacing\" textLength=\"35\" x=\"21.5\" y=\"265.6279\">Alice</text><rect fill=\"#E2E2F0\" height=\"30.2969\" rx=\"2.5\" ry=\"2.5\" style=\"stroke:#181818;stroke-width:0.5;\" width=\"43\" x=\"73.5\" y=\"54.9375\"/><text fill=\"#000000\" font-family=\"sans-serif\" font-size=\"14\" lengthAdjust=\"spacing\" textLength=\"29\" x=\"80.5\" y=\"74.9326\">Bob</text><rect fill=\"#E2E2F0\" height=\"30.2969\" rx=\"2.5\" ry=\"2.5\" style=\"stroke:#181818;stroke-width:0.5;\" width=\"43\" x=\"73.5\" y=\"245.6328\"/><text fill=\"#000000\" font-family=\"sans-serif\" font-size=\"14\" lengthAdjust=\"spacing\" textLength=\"29\" x=\"80.5\" y=\"265.6279\">Bob</text><polygon fill=\"#181818\" points=\"83,113.3672,93,117.3672,83,121.3672,87,117.3672\" style=\"stroke:#181818;stroke-width:1.0;\"/><line style=\"stroke:#181818;stroke-width:1.0;stroke-dasharray:2.0,2.0;\" x1=\"39\" x2=\"89\" y1=\"117.3672\" y2=\"117.3672\"/><text fill=\"#000000\" font-family=\"sans-serif\" font-size=\"13\" lengthAdjust=\"spacing\" textLength=\"31\" x=\"46\" y=\"112.3013\">Hello</text><line style=\"stroke:#181818;stroke-width:1.0;\" x1=\"39\" x2=\"81\" y1=\"146.5\" y2=\"146.5\"/><line style=\"stroke:#181818;stroke-width:1.0;\" x1=\"81\" x2=\"81\" y1=\"146.5\" y2=\"159.5\"/><line style=\"stroke:#181818;stroke-width:1.0;\" x1=\"40\" x2=\"81\" y1=\"159.5\" y2=\"159.5\"/><polygon fill=\"#181818\" points=\"50,155.5,40,159.5,50,163.5,46,159.5\" style=\"stroke:#181818;stroke-width:1.0;\"/><text fill=\"#000000\" font-family=\"sans-serif\" font-size=\"13\" lengthAdjust=\"spacing\" textLength=\"24\" x=\"46\" y=\"141.4341\">Self</text><polygon fill=\"#181818\" points=\"50,224.6328,40,228.6328,50,232.6328,46,228.6328\" style=\"stroke:#181818;stroke-width:1.0;\"/><line style=\"stroke:#181818;stroke-width:1.0;\" x1=\"44\" x2=\"94\" y1=\"228.6328\" y2=\"228.6328\"/><text fill=\"#000000\" font-family=\"sans-serif\" font-size=\"13\" lengthAdjust=\"spacing\" textLength=\"17\" x=\"56\" y=\"223.5669\">Hi!</text><text fill=\"#888888\" font-family=\"sans-serif\" font-size=\"10\" lengthAdjust=\"spacing\" textLength=\"70\" x=\"60\" y=\"14.2822\">Page Header</text><text fill=\"#888888\" font-family=\"sans-serif\" font-size=\"10\" lengthAdjust=\"spacing\" textLength=\"61\" x=\"34.5\" y=\"287.2119\">Page 1 of 1</text><!--SRC=[oqXDJ4ajKWX8J4zLy02pkTBoyqjWGge5G59L8JzDGJKdiRW4pEFYAiaioKbL206JhXM9kGKvgLnSZZcPoQaAkhfs2axvIGfMGDDoSl9XedOA48QLGd1gJXfNJOs9GKqDLD965wOZKn40]--></g></svg>"
      ],
      "text/plain": [
       "<IPython.core.display.SVG object>"
      ]
     },
     "execution_count": 7,
     "metadata": {},
     "output_type": "execute_result"
    }
   ],
   "source": [
    "%%plantuml\n",
    "@startuml\n",
    "header Page Header\n",
    "footer Page %page% of %lastpage%\n",
    "\n",
    "title Title Example\n",
    "\n",
    "Alice --> Bob : Hello\n",
    "Alice -> Alice : Self\n",
    "||40||\n",
    "Alice <- Bob : Hi!\n",
    "@enduml\n"
   ]
  },
  {
   "cell_type": "code",
   "execution_count": 9,
   "metadata": {},
   "outputs": [
    {
     "data": {
      "image/svg+xml": [
       "<svg xmlns=\"http://www.w3.org/2000/svg\" xmlns:xlink=\"http://www.w3.org/1999/xlink\" contentStyleType=\"text/css\" height=\"270px\" preserveAspectRatio=\"none\" style=\"width:380px;height:270px;background:#FFFFFF;\" version=\"1.1\" viewBox=\"0 0 380 270\" width=\"380px\" zoomAndPan=\"magnify\"><defs/><g><rect fill=\"#FFFFFF\" height=\"149.5313\" style=\"stroke:#181818;stroke-width:1.0;\" width=\"10\" x=\"175.5\" y=\"67.4297\"/><rect fill=\"#FFFFFF\" height=\"91.2656\" style=\"stroke:#181818;stroke-width:1.0;\" width=\"10\" x=\"316.5\" y=\"96.5625\"/><line style=\"stroke:#181818;stroke-width:0.5;stroke-dasharray:5.0,5.0;\" x1=\"27\" x2=\"27\" y1=\"36.2969\" y2=\"234.9609\"/><line style=\"stroke:#181818;stroke-width:0.5;stroke-dasharray:5.0,5.0;\" x1=\"180.5\" x2=\"180.5\" y1=\"36.2969\" y2=\"234.9609\"/><line style=\"stroke:#181818;stroke-width:0.5;stroke-dasharray:5.0,5.0;\" x1=\"321.5\" x2=\"321.5\" y1=\"36.2969\" y2=\"234.9609\"/><rect fill=\"#E2E2F0\" height=\"30.2969\" rx=\"2.5\" ry=\"2.5\" style=\"stroke:#181818;stroke-width:0.5;\" width=\"45\" x=\"5\" y=\"5\"/><text fill=\"#000000\" font-family=\"sans-serif\" font-size=\"14\" lengthAdjust=\"spacing\" textLength=\"31\" x=\"12\" y=\"24.9951\">User</text><rect fill=\"#E2E2F0\" height=\"30.2969\" rx=\"2.5\" ry=\"2.5\" style=\"stroke:#181818;stroke-width:0.5;\" width=\"45\" x=\"5\" y=\"233.9609\"/><text fill=\"#000000\" font-family=\"sans-serif\" font-size=\"14\" lengthAdjust=\"spacing\" textLength=\"31\" x=\"12\" y=\"253.9561\">User</text><rect fill=\"#E2E2F0\" height=\"30.2969\" rx=\"2.5\" ry=\"2.5\" style=\"stroke:#181818;stroke-width:0.5;\" width=\"24\" x=\"168.5\" y=\"5\"/><text fill=\"#000000\" font-family=\"sans-serif\" font-size=\"14\" lengthAdjust=\"spacing\" textLength=\"10\" x=\"175.5\" y=\"24.9951\">A</text><rect fill=\"#E2E2F0\" height=\"30.2969\" rx=\"2.5\" ry=\"2.5\" style=\"stroke:#181818;stroke-width:0.5;\" width=\"24\" x=\"168.5\" y=\"233.9609\"/><text fill=\"#000000\" font-family=\"sans-serif\" font-size=\"14\" lengthAdjust=\"spacing\" textLength=\"10\" x=\"175.5\" y=\"253.9561\">A</text><rect fill=\"#E2E2F0\" height=\"30.2969\" rx=\"2.5\" ry=\"2.5\" style=\"stroke:#181818;stroke-width:0.5;\" width=\"24\" x=\"309.5\" y=\"5\"/><text fill=\"#000000\" font-family=\"sans-serif\" font-size=\"14\" lengthAdjust=\"spacing\" textLength=\"10\" x=\"316.5\" y=\"24.9951\">B</text><rect fill=\"#E2E2F0\" height=\"30.2969\" rx=\"2.5\" ry=\"2.5\" style=\"stroke:#181818;stroke-width:0.5;\" width=\"24\" x=\"309.5\" y=\"233.9609\"/><text fill=\"#000000\" font-family=\"sans-serif\" font-size=\"14\" lengthAdjust=\"spacing\" textLength=\"10\" x=\"316.5\" y=\"253.9561\">B</text><rect fill=\"#FFFFFF\" height=\"149.5313\" style=\"stroke:#181818;stroke-width:1.0;\" width=\"10\" x=\"175.5\" y=\"67.4297\"/><rect fill=\"#FFFFFF\" height=\"91.2656\" style=\"stroke:#181818;stroke-width:1.0;\" width=\"10\" x=\"316.5\" y=\"96.5625\"/><polygon fill=\"#181818\" points=\"163.5,63.4297,173.5,67.4297,163.5,71.4297,167.5,67.4297\" style=\"stroke:#181818;stroke-width:1.0;\"/><line style=\"stroke:#181818;stroke-width:1.0;\" x1=\"27.5\" x2=\"169.5\" y1=\"67.4297\" y2=\"67.4297\"/><text fill=\"#000000\" font-family=\"sans-serif\" font-size=\"13\" lengthAdjust=\"spacing\" textLength=\"85\" x=\"34.5\" y=\"62.3638\">Send request</text><polygon fill=\"#181818\" points=\"304.5,92.5625,314.5,96.5625,304.5,100.5625,308.5,96.5625\" style=\"stroke:#181818;stroke-width:1.0;\"/><line style=\"stroke:#181818;stroke-width:1.0;\" x1=\"185.5\" x2=\"310.5\" y1=\"96.5625\" y2=\"96.5625\"/><text fill=\"#000000\" font-family=\"sans-serif\" font-size=\"13\" lengthAdjust=\"spacing\" textLength=\"112\" x=\"192.5\" y=\"91.4966\">«Create request»</text><line style=\"stroke:#181818;stroke-width:1.0;stroke-dasharray:2.0,2.0;\" x1=\"326.5\" x2=\"368.5\" y1=\"125.6953\" y2=\"125.6953\"/><line style=\"stroke:#181818;stroke-width:1.0;stroke-dasharray:2.0,2.0;\" x1=\"368.5\" x2=\"368.5\" y1=\"125.6953\" y2=\"138.6953\"/><line style=\"stroke:#181818;stroke-width:1.0;stroke-dasharray:2.0,2.0;\" x1=\"327.5\" x2=\"368.5\" y1=\"138.6953\" y2=\"138.6953\"/><polygon fill=\"#181818\" points=\"337.5,134.6953,327.5,138.6953,337.5,142.6953,333.5,138.6953\" style=\"stroke:#181818;stroke-width:1.0;\"/><text fill=\"#000000\" font-family=\"sans-serif\" font-size=\"13\" lengthAdjust=\"spacing\" textLength=\"40\" x=\"333.5\" y=\"120.6294\">«Self»</text><polygon fill=\"#181818\" points=\"196.5,183.8281,186.5,187.8281,196.5,191.8281,192.5,187.8281\" style=\"stroke:#181818;stroke-width:1.0;\"/><line style=\"stroke:#181818;stroke-width:1.0;\" x1=\"190.5\" x2=\"320.5\" y1=\"187.8281\" y2=\"187.8281\"/><text fill=\"#000000\" font-family=\"sans-serif\" font-size=\"13\" lengthAdjust=\"spacing\" textLength=\"68\" x=\"202.5\" y=\"182.7622\">«Finished»</text><polygon fill=\"#181818\" points=\"38.5,212.9609,28.5,216.9609,38.5,220.9609,34.5,216.9609\" style=\"stroke:#181818;stroke-width:1.0;\"/><line style=\"stroke:#181818;stroke-width:1.0;\" x1=\"32.5\" x2=\"179.5\" y1=\"216.9609\" y2=\"216.9609\"/><text fill=\"#000000\" font-family=\"sans-serif\" font-size=\"13\" lengthAdjust=\"spacing\" textLength=\"124\" x=\"44.5\" y=\"211.895\">Request successful</text><!--SRC=[JSv12iCW40NG_PnYBX0eNKeGjD03DFG0eXCg14aTxSh3rqc5niKi_8_vixjSee-xImMVJ1b09auQ3IfSA0NCzAx41PmlyUCAeG4m8Ypsft2URvdaVq2j_zG2M9o65RhGjdRGslNIccHIDB9xJ95V57eUwBpYQ3lkKlZubI1NxubvhTiPcoy0]--></g></svg>"
      ],
      "text/plain": [
       "<IPython.core.display.SVG object>"
      ]
     },
     "execution_count": 9,
     "metadata": {},
     "output_type": "execute_result"
    }
   ],
   "source": [
    "%%plantuml\n",
    "participant User\n",
    "\n",
    "User -> A : Send request\n",
    "activate A\n",
    "\n",
    "A -> B    : <<Create request>>\n",
    "activate B\n",
    "\n",
    "B --> B   : <<Self>>\n",
    "||20||\n",
    "B -> A    : <<Finished>>\n",
    "deactivate B\n",
    "\n",
    "A -> User : Request successful\n",
    "deactivate A\n",
    "\n",
    "@enduml"
   ]
  },
  {
   "cell_type": "code",
   "execution_count": 11,
   "metadata": {},
   "outputs": [
    {
     "data": {
      "image/svg+xml": [
       "<svg xmlns=\"http://www.w3.org/2000/svg\" xmlns:xlink=\"http://www.w3.org/1999/xlink\" contentStyleType=\"text/css\" height=\"178px\" preserveAspectRatio=\"none\" style=\"width:164px;height:178px;background:#FFFFFF;\" version=\"1.1\" viewBox=\"0 0 164 178\" width=\"164px\" zoomAndPan=\"magnify\"><defs/><g><rect fill=\"#FFFFFF\" height=\"29.1328\" style=\"stroke:#181818;stroke-width:1.0;\" width=\"10\" x=\"74\" y=\"67.4297\"/><rect fill=\"#FFFFFF\" height=\"29.1328\" style=\"stroke:#181818;stroke-width:1.0;\" width=\"10\" x=\"141\" y=\"96.5625\"/><line style=\"stroke:#181818;stroke-width:0.5;stroke-dasharray:5.0,5.0;\" x1=\"17\" x2=\"17\" y1=\"36.2969\" y2=\"143.6953\"/><line style=\"stroke:#181818;stroke-width:0.5;stroke-dasharray:5.0,5.0;\" x1=\"79\" x2=\"79\" y1=\"36.2969\" y2=\"143.6953\"/><line style=\"stroke:#181818;stroke-width:0.5;stroke-dasharray:5.0,5.0;\" x1=\"146\" x2=\"146\" y1=\"36.2969\" y2=\"143.6953\"/><rect fill=\"#E2E2F0\" height=\"30.2969\" rx=\"2.5\" ry=\"2.5\" style=\"stroke:#181818;stroke-width:0.5;\" width=\"24\" x=\"5\" y=\"5\"/><text fill=\"#000000\" font-family=\"sans-serif\" font-size=\"14\" lengthAdjust=\"spacing\" textLength=\"10\" x=\"12\" y=\"24.9951\">A</text><rect fill=\"#E2E2F0\" height=\"30.2969\" rx=\"2.5\" ry=\"2.5\" style=\"stroke:#181818;stroke-width:0.5;\" width=\"24\" x=\"5\" y=\"142.6953\"/><text fill=\"#000000\" font-family=\"sans-serif\" font-size=\"14\" lengthAdjust=\"spacing\" textLength=\"10\" x=\"12\" y=\"162.6904\">A</text><rect fill=\"#E2E2F0\" height=\"30.2969\" rx=\"2.5\" ry=\"2.5\" style=\"stroke:#181818;stroke-width:0.5;\" width=\"24\" x=\"67\" y=\"5\"/><text fill=\"#000000\" font-family=\"sans-serif\" font-size=\"14\" lengthAdjust=\"spacing\" textLength=\"10\" x=\"74\" y=\"24.9951\">B</text><rect fill=\"#E2E2F0\" height=\"30.2969\" rx=\"2.5\" ry=\"2.5\" style=\"stroke:#181818;stroke-width:0.5;\" width=\"24\" x=\"67\" y=\"142.6953\"/><text fill=\"#000000\" font-family=\"sans-serif\" font-size=\"14\" lengthAdjust=\"spacing\" textLength=\"10\" x=\"74\" y=\"162.6904\">B</text><rect fill=\"#E2E2F0\" height=\"30.2969\" rx=\"2.5\" ry=\"2.5\" style=\"stroke:#181818;stroke-width:0.5;\" width=\"24\" x=\"134\" y=\"5\"/><text fill=\"#000000\" font-family=\"sans-serif\" font-size=\"14\" lengthAdjust=\"spacing\" textLength=\"10\" x=\"141\" y=\"24.9951\">C</text><rect fill=\"#E2E2F0\" height=\"30.2969\" rx=\"2.5\" ry=\"2.5\" style=\"stroke:#181818;stroke-width:0.5;\" width=\"24\" x=\"134\" y=\"142.6953\"/><text fill=\"#000000\" font-family=\"sans-serif\" font-size=\"14\" lengthAdjust=\"spacing\" textLength=\"10\" x=\"141\" y=\"162.6904\">C</text><rect fill=\"#FFFFFF\" height=\"29.1328\" style=\"stroke:#181818;stroke-width:1.0;\" width=\"10\" x=\"74\" y=\"67.4297\"/><rect fill=\"#FFFFFF\" height=\"29.1328\" style=\"stroke:#181818;stroke-width:1.0;\" width=\"10\" x=\"141\" y=\"96.5625\"/><polygon fill=\"#181818\" points=\"62,63.4297,72,67.4297,62,71.4297,66,67.4297\" style=\"stroke:#181818;stroke-width:1.0;\"/><line style=\"stroke:#181818;stroke-width:1.0;\" x1=\"17\" x2=\"68\" y1=\"67.4297\" y2=\"67.4297\"/><text fill=\"#000000\" font-family=\"sans-serif\" font-size=\"13\" lengthAdjust=\"spacing\" textLength=\"38\" x=\"24\" y=\"62.3638\">hello1</text><polygon fill=\"#181818\" points=\"129,92.5625,139,96.5625,129,100.5625,133,96.5625\" style=\"stroke:#181818;stroke-width:1.0;\"/><line style=\"stroke:#181818;stroke-width:1.0;\" x1=\"79\" x2=\"135\" y1=\"96.5625\" y2=\"96.5625\"/><text fill=\"#000000\" font-family=\"sans-serif\" font-size=\"13\" lengthAdjust=\"spacing\" textLength=\"38\" x=\"86\" y=\"91.4966\">hello2</text><polygon fill=\"#181818\" points=\"28,121.6953,18,125.6953,28,129.6953,24,125.6953\" style=\"stroke:#181818;stroke-width:1.0;\"/><line style=\"stroke:#181818;stroke-width:1.0;stroke-dasharray:2.0,2.0;\" x1=\"22\" x2=\"145\" y1=\"125.6953\" y2=\"125.6953\"/><text fill=\"#000000\" font-family=\"sans-serif\" font-size=\"13\" lengthAdjust=\"spacing\" textLength=\"15\" x=\"34\" y=\"120.6294\">ok</text><!--SRC=[SrJGjLDmKj3MLW01AuMCr9oSV4Ck9v2miuAkBbW2Acp41HAnSmGIKDNvsG00]--></g></svg>"
      ],
      "text/plain": [
       "<IPython.core.display.SVG object>"
      ]
     },
     "execution_count": 11,
     "metadata": {},
     "output_type": "execute_result"
    }
   ],
   "source": [
    "%%plantuml\n",
    "@startuml\n",
    "\n",
    "A -> B ++     : hello1\n",
    "B -> C --++   : hello2\n",
    "C -->A --     : ok\n",
    "\n",
    "@enduml"
   ]
  },
  {
   "cell_type": "code",
   "execution_count": 22,
   "metadata": {},
   "outputs": [
    {
     "data": {
      "image/svg+xml": [
       "<svg xmlns=\"http://www.w3.org/2000/svg\" xmlns:xlink=\"http://www.w3.org/1999/xlink\" contentStyleType=\"text/css\" height=\"381px\" preserveAspectRatio=\"none\" style=\"width:481px;height:381px;background:#FFFFFF;\" version=\"1.1\" viewBox=\"0 0 481 381\" width=\"481px\" zoomAndPan=\"magnify\"><defs/><g><g id=\"elem_Object01\"><rect fill=\"#F1F1F1\" height=\"60.8906\" style=\"stroke:#181818;stroke-width:0.5;\" width=\"122\" x=\"178.5\" y=\"7\"/><text fill=\"#000000\" font-family=\"sans-serif\" font-size=\"14\" lengthAdjust=\"spacing\" textLength=\"67\" x=\"206\" y=\"21.9951\">Object01</text><line style=\"stroke:#181818;stroke-width:0.5;\" x1=\"179.5\" x2=\"299.5\" y1=\"27.2969\" y2=\"27.2969\"/><text fill=\"#000000\" font-family=\"sans-serif\" font-size=\"14\" lengthAdjust=\"spacing\" textLength=\"110\" x=\"184.5\" y=\"44.292\">name = &quot;Jorge&quot;</text><text fill=\"#000000\" font-family=\"sans-serif\" font-size=\"14\" lengthAdjust=\"spacing\" textLength=\"58\" x=\"184.5\" y=\"60.5889\">id = 112</text></g><g id=\"elem_Object02\"><rect fill=\"#F1F1F1\" height=\"36.2969\" style=\"stroke:#181818;stroke-width:0.5;\" width=\"80\" x=\"199.5\" y=\"129\"/><text fill=\"#000000\" font-family=\"sans-serif\" font-size=\"14\" lengthAdjust=\"spacing\" textLength=\"66\" x=\"206.5\" y=\"143.9951\">Object02</text><line style=\"stroke:#181818;stroke-width:0.5;\" x1=\"200.5\" x2=\"278.5\" y1=\"149.2969\" y2=\"149.2969\"/></g><g id=\"elem_Object03\"><rect fill=\"#F1F1F1\" height=\"36.2969\" style=\"stroke:#181818;stroke-width:0.5;\" width=\"81\" x=\"7\" y=\"242\"/><text fill=\"#000000\" font-family=\"sans-serif\" font-size=\"14\" lengthAdjust=\"spacing\" textLength=\"67\" x=\"14\" y=\"256.9951\">Object03</text><line style=\"stroke:#181818;stroke-width:0.5;\" x1=\"8\" x2=\"87\" y1=\"262.2969\" y2=\"262.2969\"/></g><g id=\"elem_Object04\"><rect fill=\"#F1F1F1\" height=\"36.2969\" style=\"stroke:#181818;stroke-width:0.5;\" width=\"80\" x=\"123.5\" y=\"242\"/><text fill=\"#000000\" font-family=\"sans-serif\" font-size=\"14\" lengthAdjust=\"spacing\" textLength=\"66\" x=\"130.5\" y=\"256.9951\">Object04</text><line style=\"stroke:#181818;stroke-width:0.5;\" x1=\"124.5\" x2=\"202.5\" y1=\"262.2969\" y2=\"262.2969\"/></g><g id=\"elem_Object05\"><rect fill=\"#F1F1F1\" height=\"36.2969\" style=\"stroke:#181818;stroke-width:0.5;\" width=\"81\" x=\"239\" y=\"242\"/><text fill=\"#000000\" font-family=\"sans-serif\" font-size=\"14\" lengthAdjust=\"spacing\" textLength=\"67\" x=\"246\" y=\"256.9951\">Object05</text><line style=\"stroke:#181818;stroke-width:0.5;\" x1=\"240\" x2=\"319\" y1=\"262.2969\" y2=\"262.2969\"/></g><g id=\"elem_Object06\"><rect fill=\"#F1F1F1\" height=\"36.2969\" style=\"stroke:#181818;stroke-width:0.5;\" width=\"81\" x=\"123\" y=\"339\"/><text fill=\"#000000\" font-family=\"sans-serif\" font-size=\"14\" lengthAdjust=\"spacing\" textLength=\"67\" x=\"130\" y=\"353.9951\">Object06</text><line style=\"stroke:#181818;stroke-width:0.5;\" x1=\"124\" x2=\"203\" y1=\"359.2969\" y2=\"359.2969\"/></g><g id=\"elem_Object07\"><rect fill=\"#F1F1F1\" height=\"36.2969\" style=\"stroke:#181818;stroke-width:0.5;\" width=\"81\" x=\"355\" y=\"129\"/><text fill=\"#000000\" font-family=\"sans-serif\" font-size=\"14\" lengthAdjust=\"spacing\" textLength=\"67\" x=\"362\" y=\"143.9951\">Object07</text><line style=\"stroke:#181818;stroke-width:0.5;\" x1=\"356\" x2=\"435\" y1=\"149.2969\" y2=\"149.2969\"/></g><g id=\"elem_Object08\"><rect fill=\"#F1F1F1\" height=\"36.2969\" style=\"stroke:#181818;stroke-width:0.5;\" width=\"80\" x=\"355.5\" y=\"242\"/><text fill=\"#000000\" font-family=\"sans-serif\" font-size=\"14\" lengthAdjust=\"spacing\" textLength=\"66\" x=\"362.5\" y=\"256.9951\">Object08</text><line style=\"stroke:#181818;stroke-width:0.5;\" x1=\"356.5\" x2=\"434.5\" y1=\"262.2969\" y2=\"262.2969\"/></g><!--reverse link Object01 to Object02--><g id=\"link_Object01_Object02\"><path codeLine=\"13\" d=\"M239.5,86.159 C239.5,105.674 239.5,112.529 239.5,128.835 \" fill=\"none\" id=\"Object01-backto-Object02\" style=\"stroke:#181818;stroke-width:1.0;\"/><polygon fill=\"none\" points=\"239.5,68.159,233.5,86.159,245.5,86.159,239.5,68.159\" style=\"stroke:#181818;stroke-width:1.0;\"/></g><!--reverse link Object02 to Object04--><g id=\"link_Object02_Object04\"><path codeLine=\"14\" d=\"M220.8455,175.2454 C206.5675,196.0984 189.532,220.979 175.292,241.778 \" fill=\"none\" id=\"Object02-backto-Object04\" style=\"stroke:#181818;stroke-width:1.0;\"/><polygon fill=\"#181818\" points=\"227.625,165.344,220.9348,168.0349,220.8455,175.2454,227.5357,172.5546,227.625,165.344\" style=\"stroke:#181818;stroke-width:1.0;\"/></g><!--reverse link Object02 to Object03--><g id=\"link_Object02_Object03\"><path codeLine=\"15\" d=\"M199.5321,171.106 C163.4511,191.965 113.208,221.012 77.1128,241.88 \" fill=\"none\" id=\"Object02-backto-Object03\" style=\"stroke:#181818;stroke-width:1.0;\"/><polygon fill=\"none\" points=\"209.921,165.1,202.7246,164.64,199.5321,171.106,206.7286,171.5659,209.921,165.1\" style=\"stroke:#181818;stroke-width:1.0;\"/><text fill=\"#000000\" font-family=\"sans-serif\" font-size=\"13\" lengthAdjust=\"spacing\" textLength=\"8\" x=\"76.9567\" y=\"231.0756\">4</text></g><!--link Object02 to Object05--><g id=\"link_Object02_Object05\"><path codeLine=\"16\" d=\"M245.75,165.344 C253.265,186.197 265.799,220.979 273.294,241.778 \" fill=\"none\" id=\"Object02-Object05\" style=\"stroke:#181818;stroke-width:1.0;\"/><text fill=\"#000000\" font-family=\"sans-serif\" font-size=\"13\" lengthAdjust=\"spacing\" textLength=\"24\" x=\"243.7184\" y=\"230.9424\">1..n</text></g><!--link Object02 to Object08--><g id=\"link_Object02_Object08\"><path codeLine=\"17\" d=\"M263.533,165.1 C292.848,185.959 342.112,221.012 371.44,241.88 \" fill=\"none\" id=\"Object02-Object08\" style=\"stroke:#181818;stroke-width:1.0;\"/></g><!--link Object04 to Object06--><g id=\"link_Object04_Object06\"><path codeLine=\"18\" d=\"M163.5,278.4245 C163.5,295.5655 163.5,321.5832 163.5,338.686 \" fill=\"none\" id=\"Object04-Object06\" style=\"stroke:#181818;stroke-width:1.0;\"/></g><!--link Object07 to Object08--><g id=\"link_Object07_Object08\"><path codeLine=\"19\" d=\"M395.5,165.344 C395.5,186.197 395.5,220.979 395.5,241.778 \" fill=\"none\" id=\"Object07-Object08\" style=\"stroke:#181818;stroke-width:1.0;stroke-dasharray:7.0,7.0;\"/><text fill=\"#000000\" font-family=\"sans-serif\" font-size=\"13\" lengthAdjust=\"spacing\" textLength=\"77\" x=\"396.5\" y=\"208.0669\">some labels</text></g><!--SRC=[oq_AIaqkKV07KmQ6NFaeV2CqlZ4QtmIDRuh6DqFZcwFnBRYuO3OhM2da9UQcAjWgA7db5wMdAY7BPAO0nGqDZP2KszJewYAS2MCeQ254JH2Y-K1H9HCbX3VWCY09GpszF2M45v3buEw4cOaaQ0OJD5VGquEh1BgsE1_eZvp4fDISOW00]--></g></svg>"
      ],
      "text/plain": [
       "<IPython.core.display.SVG object>"
      ]
     },
     "execution_count": 22,
     "metadata": {},
     "output_type": "execute_result"
    }
   ],
   "source": [
    "%%plantuml\n",
    "\n",
    "@startuml\n",
    "object Object01\n",
    "object Object02\n",
    "object Object03\n",
    "object Object04\n",
    "object Object05\n",
    "object Object06\n",
    "object Object07\n",
    "object Object08\n",
    "\n",
    "Object01 : name = \"Jorge\"\n",
    "Object01 : id = 112\n",
    "\n",
    "Object01 <|-- Object02\n",
    "Object02 *-- Object04\n",
    "Object02 o-- \"4\" Object03\n",
    "Object02 -- \"1..n\" Object05\n",
    "Object02 -- Object08\n",
    "Object04 -- Object06\n",
    "Object07 .. Object08 : some labels\n",
    "@enduml"
   ]
  }
 ],
 "metadata": {
  "kernelspec": {
   "display_name": "Python 3",
   "language": "python",
   "name": "python3"
  },
  "language_info": {
   "codemirror_mode": {
    "name": "ipython",
    "version": 3
   },
   "file_extension": ".py",
   "mimetype": "text/x-python",
   "name": "python",
   "nbconvert_exporter": "python",
   "pygments_lexer": "ipython3",
   "version": "3.11.1"
  },
  "orig_nbformat": 4
 },
 "nbformat": 4,
 "nbformat_minor": 2
}
