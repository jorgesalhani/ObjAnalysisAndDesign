{
 "cells": [
  {
   "cell_type": "code",
   "execution_count": 7,
   "metadata": {},
   "outputs": [
    {
     "name": "stdout",
     "output_type": "stream",
     "text": [
      "Requirement already satisfied: iplantuml in c:\\users\\jorge\\appdata\\local\\programs\\python\\python311\\lib\\site-packages (0.1.1)\n",
      "Requirement already satisfied: plantweb in c:\\users\\jorge\\appdata\\local\\programs\\python\\python311\\lib\\site-packages (from iplantuml) (1.2.1)\n",
      "Requirement already satisfied: six in c:\\users\\jorge\\appdata\\local\\programs\\python\\python311\\lib\\site-packages (from plantweb->iplantuml) (1.16.0)\n",
      "Requirement already satisfied: requests in c:\\users\\jorge\\appdata\\local\\programs\\python\\python311\\lib\\site-packages (from plantweb->iplantuml) (2.31.0)\n",
      "Requirement already satisfied: docutils in c:\\users\\jorge\\appdata\\local\\programs\\python\\python311\\lib\\site-packages (from plantweb->iplantuml) (0.19)\n",
      "Requirement already satisfied: charset-normalizer<4,>=2 in c:\\users\\jorge\\appdata\\local\\programs\\python\\python311\\lib\\site-packages (from requests->plantweb->iplantuml) (3.0.1)\n",
      "Requirement already satisfied: idna<4,>=2.5 in c:\\users\\jorge\\appdata\\local\\programs\\python\\python311\\lib\\site-packages (from requests->plantweb->iplantuml) (3.4)\n",
      "Requirement already satisfied: urllib3<3,>=1.21.1 in c:\\users\\jorge\\appdata\\local\\programs\\python\\python311\\lib\\site-packages (from requests->plantweb->iplantuml) (1.26.14)\n",
      "Requirement already satisfied: certifi>=2017.4.17 in c:\\users\\jorge\\appdata\\local\\programs\\python\\python311\\lib\\site-packages (from requests->plantweb->iplantuml) (2022.12.7)\n",
      "Note: you may need to restart the kernel to use updated packages.\n"
     ]
    },
    {
     "name": "stderr",
     "output_type": "stream",
     "text": [
      "\n",
      "[notice] A new release of pip available: 22.3.1 -> 23.2.1\n",
      "[notice] To update, run: python.exe -m pip install --upgrade pip\n"
     ]
    }
   ],
   "source": [
    "%pip install iplantuml\n",
    "import iplantuml"
   ]
  },
  {
   "cell_type": "code",
   "execution_count": 8,
   "metadata": {},
   "outputs": [
    {
     "data": {
      "image/svg+xml": [
       "<svg xmlns=\"http://www.w3.org/2000/svg\" xmlns:xlink=\"http://www.w3.org/1999/xlink\" contentStyleType=\"text/css\" height=\"278px\" preserveAspectRatio=\"none\" style=\"width:395px;height:278px;background:#FFFFFF;\" version=\"1.1\" viewBox=\"0 0 395 278\" width=\"395px\" zoomAndPan=\"magnify\"><defs/><g><!--class Object--><g id=\"elem_Object\"><rect fill=\"#F1F1F1\" height=\"48\" id=\"Object\" rx=\"2.5\" ry=\"2.5\" style=\"stroke:#181818;stroke-width:0.5;\" width=\"81\" x=\"129.5\" y=\"7\"/><ellipse cx=\"144.5\" cy=\"23\" fill=\"#ADD1B2\" rx=\"11\" ry=\"11\" style=\"stroke:#181818;stroke-width:1.0;\"/><path d=\"M146.8438,18.6719 C145.9063,18.2344 145.3125,18.0938 144.4375,18.0938 C141.8125,18.0938 139.8125,20.1719 139.8125,22.8906 L139.8125,24.0156 C139.8125,26.5938 141.9219,28.4844 144.8125,28.4844 C146.0313,28.4844 147.1875,28.1875 147.9375,27.6406 C148.5156,27.2344 148.8438,26.7813 148.8438,26.3906 C148.8438,25.9375 148.4531,25.5469 147.9844,25.5469 C147.7656,25.5469 147.5625,25.625 147.375,25.8125 C146.9219,26.2969 146.9219,26.2969 146.7344,26.3906 C146.3125,26.6563 145.625,26.7813 144.8594,26.7813 C142.8125,26.7813 141.5156,25.6875 141.5156,23.9844 L141.5156,22.8906 C141.5156,21.1094 142.7656,19.7969 144.5,19.7969 C145.0781,19.7969 145.6875,19.9531 146.1563,20.2031 C146.6406,20.4844 146.8125,20.7031 146.9063,21.1094 C146.9688,21.5156 147,21.6406 147.1406,21.7656 C147.2813,21.9063 147.5156,22.0156 147.7344,22.0156 C148,22.0156 148.2656,21.875 148.4375,21.6563 C148.5469,21.5 148.5781,21.3125 148.5781,20.8906 L148.5781,19.4688 C148.5781,19.0313 148.5625,18.9063 148.4688,18.75 C148.3125,18.4844 148.0313,18.3438 147.7344,18.3438 C147.4375,18.3438 147.2344,18.4375 147.0156,18.75 L146.8438,18.6719 Z \" fill=\"#000000\"/><text fill=\"#000000\" font-family=\"sans-serif\" font-size=\"14\" lengthAdjust=\"spacing\" textLength=\"49\" x=\"158.5\" y=\"27.8467\">Object</text><line style=\"stroke:#181818;stroke-width:0.5;\" x1=\"130.5\" x2=\"209.5\" y1=\"39\" y2=\"39\"/><line style=\"stroke:#181818;stroke-width:0.5;\" x1=\"130.5\" x2=\"209.5\" y1=\"47\" y2=\"47\"/></g><!--class Boolean--><g id=\"elem_Boolean\"><rect fill=\"#F1F1F1\" height=\"48\" id=\"Boolean\" rx=\"2.5\" ry=\"2.5\" style=\"stroke:#181818;stroke-width:0.5;\" width=\"90\" x=\"7\" y=\"115\"/><ellipse cx=\"22\" cy=\"131\" fill=\"#ADD1B2\" rx=\"11\" ry=\"11\" style=\"stroke:#181818;stroke-width:1.0;\"/><path d=\"M24.3438,126.6719 C23.4063,126.2344 22.8125,126.0938 21.9375,126.0938 C19.3125,126.0938 17.3125,128.1719 17.3125,130.8906 L17.3125,132.0156 C17.3125,134.5938 19.4219,136.4844 22.3125,136.4844 C23.5313,136.4844 24.6875,136.1875 25.4375,135.6406 C26.0156,135.2344 26.3438,134.7813 26.3438,134.3906 C26.3438,133.9375 25.9531,133.5469 25.4844,133.5469 C25.2656,133.5469 25.0625,133.625 24.875,133.8125 C24.4219,134.2969 24.4219,134.2969 24.2344,134.3906 C23.8125,134.6563 23.125,134.7813 22.3594,134.7813 C20.3125,134.7813 19.0156,133.6875 19.0156,131.9844 L19.0156,130.8906 C19.0156,129.1094 20.2656,127.7969 22,127.7969 C22.5781,127.7969 23.1875,127.9531 23.6563,128.2031 C24.1406,128.4844 24.3125,128.7031 24.4063,129.1094 C24.4688,129.5156 24.5,129.6406 24.6406,129.7656 C24.7813,129.9063 25.0156,130.0156 25.2344,130.0156 C25.5,130.0156 25.7656,129.875 25.9375,129.6563 C26.0469,129.5 26.0781,129.3125 26.0781,128.8906 L26.0781,127.4688 C26.0781,127.0313 26.0625,126.9063 25.9688,126.75 C25.8125,126.4844 25.5313,126.3438 25.2344,126.3438 C24.9375,126.3438 24.7344,126.4375 24.5156,126.75 L24.3438,126.6719 Z \" fill=\"#000000\"/><text fill=\"#000000\" font-family=\"sans-serif\" font-size=\"14\" lengthAdjust=\"spacing\" textLength=\"58\" x=\"36\" y=\"135.8467\">Boolean</text><line style=\"stroke:#181818;stroke-width:0.5;\" x1=\"8\" x2=\"96\" y1=\"147\" y2=\"147\"/><line style=\"stroke:#181818;stroke-width:0.5;\" x1=\"8\" x2=\"96\" y1=\"155\" y2=\"155\"/></g><!--class String--><g id=\"elem_String\"><rect fill=\"#F1F1F1\" height=\"48\" id=\"String\" rx=\"2.5\" ry=\"2.5\" style=\"stroke:#181818;stroke-width:0.5;\" width=\"76\" x=\"132\" y=\"115\"/><ellipse cx=\"147\" cy=\"131\" fill=\"#ADD1B2\" rx=\"11\" ry=\"11\" style=\"stroke:#181818;stroke-width:1.0;\"/><path d=\"M149.3438,126.6719 C148.4063,126.2344 147.8125,126.0938 146.9375,126.0938 C144.3125,126.0938 142.3125,128.1719 142.3125,130.8906 L142.3125,132.0156 C142.3125,134.5938 144.4219,136.4844 147.3125,136.4844 C148.5313,136.4844 149.6875,136.1875 150.4375,135.6406 C151.0156,135.2344 151.3438,134.7813 151.3438,134.3906 C151.3438,133.9375 150.9531,133.5469 150.4844,133.5469 C150.2656,133.5469 150.0625,133.625 149.875,133.8125 C149.4219,134.2969 149.4219,134.2969 149.2344,134.3906 C148.8125,134.6563 148.125,134.7813 147.3594,134.7813 C145.3125,134.7813 144.0156,133.6875 144.0156,131.9844 L144.0156,130.8906 C144.0156,129.1094 145.2656,127.7969 147,127.7969 C147.5781,127.7969 148.1875,127.9531 148.6563,128.2031 C149.1406,128.4844 149.3125,128.7031 149.4063,129.1094 C149.4688,129.5156 149.5,129.6406 149.6406,129.7656 C149.7813,129.9063 150.0156,130.0156 150.2344,130.0156 C150.5,130.0156 150.7656,129.875 150.9375,129.6563 C151.0469,129.5 151.0781,129.3125 151.0781,128.8906 L151.0781,127.4688 C151.0781,127.0313 151.0625,126.9063 150.9688,126.75 C150.8125,126.4844 150.5313,126.3438 150.2344,126.3438 C149.9375,126.3438 149.7344,126.4375 149.5156,126.75 L149.3438,126.6719 Z \" fill=\"#000000\"/><text fill=\"#000000\" font-family=\"sans-serif\" font-size=\"14\" lengthAdjust=\"spacing\" textLength=\"44\" x=\"161\" y=\"135.8467\">String</text><line style=\"stroke:#181818;stroke-width:0.5;\" x1=\"133\" x2=\"207\" y1=\"147\" y2=\"147\"/><line style=\"stroke:#181818;stroke-width:0.5;\" x1=\"133\" x2=\"207\" y1=\"155\" y2=\"155\"/></g><!--class Number--><g id=\"elem_Number\"><rect fill=\"#F1F1F1\" height=\"48\" id=\"Number\" rx=\"2.5\" ry=\"2.5\" style=\"stroke:#181818;stroke-width:0.5;\" width=\"89\" x=\"243.5\" y=\"115\"/><ellipse cx=\"258.5\" cy=\"131\" fill=\"#ADD1B2\" rx=\"11\" ry=\"11\" style=\"stroke:#181818;stroke-width:1.0;\"/><path d=\"M260.8438,126.6719 C259.9063,126.2344 259.3125,126.0938 258.4375,126.0938 C255.8125,126.0938 253.8125,128.1719 253.8125,130.8906 L253.8125,132.0156 C253.8125,134.5938 255.9219,136.4844 258.8125,136.4844 C260.0313,136.4844 261.1875,136.1875 261.9375,135.6406 C262.5156,135.2344 262.8438,134.7813 262.8438,134.3906 C262.8438,133.9375 262.4531,133.5469 261.9844,133.5469 C261.7656,133.5469 261.5625,133.625 261.375,133.8125 C260.9219,134.2969 260.9219,134.2969 260.7344,134.3906 C260.3125,134.6563 259.625,134.7813 258.8594,134.7813 C256.8125,134.7813 255.5156,133.6875 255.5156,131.9844 L255.5156,130.8906 C255.5156,129.1094 256.7656,127.7969 258.5,127.7969 C259.0781,127.7969 259.6875,127.9531 260.1563,128.2031 C260.6406,128.4844 260.8125,128.7031 260.9063,129.1094 C260.9688,129.5156 261,129.6406 261.1406,129.7656 C261.2813,129.9063 261.5156,130.0156 261.7344,130.0156 C262,130.0156 262.2656,129.875 262.4375,129.6563 C262.5469,129.5 262.5781,129.3125 262.5781,128.8906 L262.5781,127.4688 C262.5781,127.0313 262.5625,126.9063 262.4688,126.75 C262.3125,126.4844 262.0313,126.3438 261.7344,126.3438 C261.4375,126.3438 261.2344,126.4375 261.0156,126.75 L260.8438,126.6719 Z \" fill=\"#000000\"/><text fill=\"#000000\" font-family=\"sans-serif\" font-size=\"14\" lengthAdjust=\"spacing\" textLength=\"57\" x=\"272.5\" y=\"135.8467\">Number</text><line style=\"stroke:#181818;stroke-width:0.5;\" x1=\"244.5\" x2=\"331.5\" y1=\"147\" y2=\"147\"/><line style=\"stroke:#181818;stroke-width:0.5;\" x1=\"244.5\" x2=\"331.5\" y1=\"155\" y2=\"155\"/></g><!--class Integer--><g id=\"elem_Integer\"><rect fill=\"#F1F1F1\" height=\"48\" id=\"Integer\" rx=\"2.5\" ry=\"2.5\" style=\"stroke:#181818;stroke-width:0.5;\" width=\"85\" x=\"185.5\" y=\"223\"/><ellipse cx=\"200.5\" cy=\"239\" fill=\"#ADD1B2\" rx=\"11\" ry=\"11\" style=\"stroke:#181818;stroke-width:1.0;\"/><path d=\"M202.8438,234.6719 C201.9063,234.2344 201.3125,234.0938 200.4375,234.0938 C197.8125,234.0938 195.8125,236.1719 195.8125,238.8906 L195.8125,240.0156 C195.8125,242.5938 197.9219,244.4844 200.8125,244.4844 C202.0313,244.4844 203.1875,244.1875 203.9375,243.6406 C204.5156,243.2344 204.8438,242.7813 204.8438,242.3906 C204.8438,241.9375 204.4531,241.5469 203.9844,241.5469 C203.7656,241.5469 203.5625,241.625 203.375,241.8125 C202.9219,242.2969 202.9219,242.2969 202.7344,242.3906 C202.3125,242.6563 201.625,242.7813 200.8594,242.7813 C198.8125,242.7813 197.5156,241.6875 197.5156,239.9844 L197.5156,238.8906 C197.5156,237.1094 198.7656,235.7969 200.5,235.7969 C201.0781,235.7969 201.6875,235.9531 202.1563,236.2031 C202.6406,236.4844 202.8125,236.7031 202.9063,237.1094 C202.9688,237.5156 203,237.6406 203.1406,237.7656 C203.2813,237.9063 203.5156,238.0156 203.7344,238.0156 C204,238.0156 204.2656,237.875 204.4375,237.6563 C204.5469,237.5 204.5781,237.3125 204.5781,236.8906 L204.5781,235.4688 C204.5781,235.0313 204.5625,234.9063 204.4688,234.75 C204.3125,234.4844 204.0313,234.3438 203.7344,234.3438 C203.4375,234.3438 203.2344,234.4375 203.0156,234.75 L202.8438,234.6719 Z \" fill=\"#000000\"/><text fill=\"#000000\" font-family=\"sans-serif\" font-size=\"14\" lengthAdjust=\"spacing\" textLength=\"53\" x=\"214.5\" y=\"243.8467\">Integer</text><line style=\"stroke:#181818;stroke-width:0.5;\" x1=\"186.5\" x2=\"269.5\" y1=\"255\" y2=\"255\"/><line style=\"stroke:#181818;stroke-width:0.5;\" x1=\"186.5\" x2=\"269.5\" y1=\"263\" y2=\"263\"/></g><!--class Double--><g id=\"elem_Double\"><rect fill=\"#F1F1F1\" height=\"48\" id=\"Double\" rx=\"2.5\" ry=\"2.5\" style=\"stroke:#181818;stroke-width:0.5;\" width=\"83\" x=\"305.5\" y=\"223\"/><ellipse cx=\"320.5\" cy=\"239\" fill=\"#ADD1B2\" rx=\"11\" ry=\"11\" style=\"stroke:#181818;stroke-width:1.0;\"/><path d=\"M322.8438,234.6719 C321.9063,234.2344 321.3125,234.0938 320.4375,234.0938 C317.8125,234.0938 315.8125,236.1719 315.8125,238.8906 L315.8125,240.0156 C315.8125,242.5938 317.9219,244.4844 320.8125,244.4844 C322.0313,244.4844 323.1875,244.1875 323.9375,243.6406 C324.5156,243.2344 324.8438,242.7813 324.8438,242.3906 C324.8438,241.9375 324.4531,241.5469 323.9844,241.5469 C323.7656,241.5469 323.5625,241.625 323.375,241.8125 C322.9219,242.2969 322.9219,242.2969 322.7344,242.3906 C322.3125,242.6563 321.625,242.7813 320.8594,242.7813 C318.8125,242.7813 317.5156,241.6875 317.5156,239.9844 L317.5156,238.8906 C317.5156,237.1094 318.7656,235.7969 320.5,235.7969 C321.0781,235.7969 321.6875,235.9531 322.1563,236.2031 C322.6406,236.4844 322.8125,236.7031 322.9063,237.1094 C322.9688,237.5156 323,237.6406 323.1406,237.7656 C323.2813,237.9063 323.5156,238.0156 323.7344,238.0156 C324,238.0156 324.2656,237.875 324.4375,237.6563 C324.5469,237.5 324.5781,237.3125 324.5781,236.8906 L324.5781,235.4688 C324.5781,235.0313 324.5625,234.9063 324.4688,234.75 C324.3125,234.4844 324.0313,234.3438 323.7344,234.3438 C323.4375,234.3438 323.2344,234.4375 323.0156,234.75 L322.8438,234.6719 Z \" fill=\"#000000\"/><text fill=\"#000000\" font-family=\"sans-serif\" font-size=\"14\" lengthAdjust=\"spacing\" textLength=\"51\" x=\"334.5\" y=\"243.8467\">Double</text><line style=\"stroke:#181818;stroke-width:0.5;\" x1=\"306.5\" x2=\"387.5\" y1=\"255\" y2=\"255\"/><line style=\"stroke:#181818;stroke-width:0.5;\" x1=\"306.5\" x2=\"387.5\" y1=\"263\" y2=\"263\"/></g><!--reverse link Object to Boolean--><g id=\"link_Object_Boolean\"><path codeLine=\"1\" d=\"M131.0054,67.0288 C111.3484,84.6868 97.7074,96.941 77.9618,114.678 \" fill=\"none\" id=\"Object-backto-Boolean\" style=\"stroke:#181818;stroke-width:1.0;\"/><polygon fill=\"none\" points=\"144.396,55,126.9958,62.5653,135.015,71.4923,144.396,55\" style=\"stroke:#181818;stroke-width:1.0;\"/></g><!--reverse link Object to String--><g id=\"link_Object_String\"><path codeLine=\"2\" d=\"M170,73 C170,90.658 170,96.941 170,114.678 \" fill=\"none\" id=\"Object-backto-String\" style=\"stroke:#181818;stroke-width:1.0;\"/><polygon fill=\"none\" points=\"170,55,164,73,176,73,170,55\" style=\"stroke:#181818;stroke-width:1.0;\"/></g><!--reverse link Object to Number--><g id=\"link_Object_Number\"><path codeLine=\"3\" d=\"M208.9946,67.0288 C228.6516,84.6868 242.293,96.941 262.038,114.678 \" fill=\"none\" id=\"Object-backto-Number\" style=\"stroke:#181818;stroke-width:1.0;\"/><polygon fill=\"none\" points=\"195.604,55,204.985,71.4923,213.0042,62.5653,195.604,55\" style=\"stroke:#181818;stroke-width:1.0;\"/></g><!--reverse link Number to Integer--><g id=\"link_Number_Integer\"><path codeLine=\"4\" d=\"M266.1144,178.6647 C256.1194,196.3231 251.241,204.9408 241.201,222.6784 \" fill=\"none\" id=\"Number-backto-Integer\" style=\"stroke:#181818;stroke-width:1.0;\"/><polygon fill=\"none\" points=\"274.981,163,260.8929,175.7092,271.336,181.6203,274.981,163\" style=\"stroke:#181818;stroke-width:1.0;\"/></g><!--reverse link Number to Double--><g id=\"link_Number_Double\"><path codeLine=\"5\" d=\"M309.5564,178.7277 C319.3854,196.3861 324.146,204.9408 334.019,222.6784 \" fill=\"none\" id=\"Number-backto-Double\" style=\"stroke:#181818;stroke-width:1.0;\"/><polygon fill=\"none\" points=\"300.802,163,304.3138,181.6458,314.7989,175.8096,300.802,163\" style=\"stroke:#181818;stroke-width:1.0;\"/></g><!--SRC=[yq_AIaqkKR2fqTLLSChFpqbDpEFoHn8BBYdAp4j74V8hpKrABUA2K10XpxoIr7GqCPVyqgISL000]--></g></svg>"
      ],
      "text/plain": [
       "<IPython.core.display.SVG object>"
      ]
     },
     "execution_count": 8,
     "metadata": {},
     "output_type": "execute_result"
    }
   ],
   "source": [
    "%%plantuml\n",
    "\n",
    "@startuml\n",
    "Object <|-- Boolean\n",
    "Object <|-- String\n",
    "Object <|-- Number\n",
    "Number <|-- Integer\n",
    "Number <|-- Double\n",
    "@enduml"
   ]
  },
  {
   "cell_type": "code",
   "execution_count": null,
   "metadata": {},
   "outputs": [],
   "source": []
  }
 ],
 "metadata": {
  "kernelspec": {
   "display_name": "Python 3",
   "language": "python",
   "name": "python3"
  },
  "language_info": {
   "codemirror_mode": {
    "name": "ipython",
    "version": 3
   },
   "file_extension": ".py",
   "mimetype": "text/x-python",
   "name": "python",
   "nbconvert_exporter": "python",
   "pygments_lexer": "ipython3",
   "version": "3.11.1"
  },
  "orig_nbformat": 4
 },
 "nbformat": 4,
 "nbformat_minor": 2
}
